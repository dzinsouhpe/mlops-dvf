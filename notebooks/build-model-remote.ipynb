{
 "cells": [
  {
   "cell_type": "code",
   "execution_count": 1,
   "metadata": {},
   "outputs": [
    {
     "name": "stdout",
     "output_type": "stream",
     "text": [
      "please enter your password\n"
     ]
    },
    {
     "name": "stdin",
     "output_type": "stream",
     "text": [
      " ··········\n"
     ]
    },
    {
     "name": "stdout",
     "output_type": "stream",
     "text": [
      "kubeconfig set for user scientist1\n"
     ]
    }
   ],
   "source": [
    "%kubeRefresh "
   ]
  },
  {
   "cell_type": "code",
   "execution_count": 2,
   "metadata": {},
   "outputs": [
    {
     "name": "stdout",
     "output_type": "stream",
     "text": [
      "Backend configured\n"
     ]
    }
   ],
   "source": [
    "%loadMlflow"
   ]
  },
  {
   "cell_type": "code",
   "execution_count": 3,
   "metadata": {},
   "outputs": [
    {
     "name": "stdout",
     "output_type": "stream",
     "text": [
      "Training Cluster    ML Engine\n",
      "------------------  -----------\n",
      "trainingdvf         python\n"
     ]
    }
   ],
   "source": [
    "%attachments"
   ]
  },
  {
   "cell_type": "code",
   "execution_count": 3,
   "metadata": {},
   "outputs": [
    {
     "name": "stdout",
     "output_type": "stream",
     "text": [
      "Job ID: 11, History URL: http://training-dvf-loadbalancer-5jknd-0.training-dvf2m2dd.projectdvf.svc.cluster.local:10001/history/11\n"
     ]
    }
   ],
   "source": [
    "%%trainingdvf\n",
    "\n",
    "import pandas as pd\n",
    "import numpy as np\n",
    "from sklearn.model_selection import train_test_split\n",
    "from sklearn.linear_model import LinearRegression\n",
    "import pickle, datetime\n",
    "\n",
    "# Start time \n",
    "print(\"Start time: \", datetime.datetime.now())\n",
    "\n",
    "df2021s1 = pd.read_csv('/bd-fs-mnt/project_repo/data/dvf/cleaned/2021s1.txt')\n",
    "x = df2021s1.drop('prix_vente', axis=1)\n",
    "x = pd.get_dummies(x, drop_first=True)\n",
    "y = df2021s1['prix_vente']\n",
    "\n",
    "x_train, x_test, y_train, y_test = train_test_split(x, y, test_size = 0.2, random_state = 42)\n",
    "LR = LinearRegression()\n",
    "LR.fit(x_train, y_train)\n",
    "\n",
    "s = pickle.dumps(LR)\n",
    "pickle.dump(LR, open('/bd-fs-mnt/project_repo/models/dvf/2/model.pkl', 'wb'))\n",
    "\n",
    "# Finish time\n",
    "print(\"End time: \", datetime.datetime.now())"
   ]
  },
  {
   "cell_type": "code",
   "execution_count": 4,
   "metadata": {},
   "outputs": [
    {
     "name": "stdout",
     "output_type": "stream",
     "text": [
      "Job Status: Finished\n",
      "Start time:  2022-03-25 13:47:04.460298\n",
      "End time:  2022-03-25 13:47:04.522801\n",
      "\n",
      "\n",
      "\n"
     ]
    }
   ],
   "source": [
    "%logs --url http://training-dvf-restserver-4hstf-0.training-dvf2m2dd.projectdvf.svc.cluster.local:10001/history/11"
   ]
  },
  {
   "cell_type": "code",
   "execution_count": null,
   "metadata": {},
   "outputs": [],
   "source": []
  }
 ],
 "metadata": {
  "kernelspec": {
   "display_name": "Python 3",
   "language": "python",
   "name": "python3"
  },
  "language_info": {
   "codemirror_mode": {
    "name": "ipython",
    "version": 3
   },
   "file_extension": ".py",
   "mimetype": "text/x-python",
   "name": "python",
   "nbconvert_exporter": "python",
   "pygments_lexer": "ipython3",
   "version": "3.8.5"
  }
 },
 "nbformat": 4,
 "nbformat_minor": 4
}
