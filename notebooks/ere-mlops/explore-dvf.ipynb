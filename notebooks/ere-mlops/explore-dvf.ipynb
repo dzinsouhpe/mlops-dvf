{
 "cells": [
  {
   "cell_type": "code",
   "execution_count": null,
   "metadata": {},
   "outputs": [],
   "source": [
    "import pandas as pd"
   ]
  },
  {
   "cell_type": "code",
   "execution_count": null,
   "metadata": {},
   "outputs": [],
   "source": [
    "df2021s1 = pd.read_csv('/bd-fs-mnt/project_repo/data/dvf/2021s1.txt', sep='|', decimal=',', low_memory=False)"
   ]
  },
  {
   "cell_type": "code",
   "execution_count": null,
   "metadata": {},
   "outputs": [],
   "source": [
    "list(df2021s1.columns)"
   ]
  },
  {
   "cell_type": "code",
   "execution_count": null,
   "metadata": {},
   "outputs": [],
   "source": [
    "df2021s1.head(5)"
   ]
  },
  {
   "cell_type": "code",
   "execution_count": null,
   "metadata": {},
   "outputs": [],
   "source": [
    "df2021s1_tls = df2021s1.query(\"`Commune` == 'TOULOUSE' & `Nature mutation` == 'Vente' & `Type local` == 'Appartement' & `Nombre de lots` == 1 & not(`Surface Carrez du 1er lot`.isnull())\")\n",
    "#df2021s1_tls = df2021s1_tls[['Code postal', 'Type de voie', 'Voie', 'Nombre pieces principales', 'Surface Carrez du 1er lot', 'Valeur fonciere']]\n",
    "df2021s1_tls = df2021s1_tls[['Code postal', 'Nombre pieces principales', 'Surface Carrez du 1er lot', 'Valeur fonciere']]\n",
    "df2021s1_tls = df2021s1_tls.rename(columns={\n",
    "    \"Code postal\": \"code_postal\", \n",
    "#    \"Type de voie\": \"type_voie\", \n",
    "#    \"Voie\": \"voie\", \n",
    "    \"Nombre pieces principales\": \"nb_pieces\", \n",
    "    \"Surface Carrez du 1er lot\": \"surface\", \n",
    "    \"Valeur fonciere\": \"prix_vente\"}\n",
    ")\n",
    "df2021s1_tls = df2021s1_tls.astype({'code_postal': 'int32', 'nb_pieces': 'int32', 'surface': 'int32', 'prix_vente': 'int32'})\n",
    "df2021s1_tls = df2021s1_tls.astype({'code_postal': 'str'})"
   ]
  },
  {
   "cell_type": "code",
   "execution_count": null,
   "metadata": {},
   "outputs": [],
   "source": [
    "df2021s1_tls.head(5)"
   ]
  },
  {
   "cell_type": "code",
   "execution_count": null,
   "metadata": {},
   "outputs": [],
   "source": [
    "df2021s1_tls.count()"
   ]
  },
  {
   "cell_type": "code",
   "execution_count": null,
   "metadata": {},
   "outputs": [],
   "source": [
    "df2021s1_tls[df2021s1_tls['code_postal']==31400]"
   ]
  },
  {
   "cell_type": "code",
   "execution_count": null,
   "metadata": {},
   "outputs": [],
   "source": [
    "df2021s1_tls.to_parquet('/bd-fs-mnt/project_repo/data/dvf/cleaned/2021s1.parquet.gzip', compression='gzip')"
   ]
  },
  {
   "cell_type": "code",
   "execution_count": null,
   "metadata": {},
   "outputs": [],
   "source": [
    "df2021s1_tls.to_csv('/bd-fs-mnt/project_repo/data/dvf/cleaned/2021s1.txt', index=None)"
   ]
  },
  {
   "cell_type": "code",
   "execution_count": null,
   "metadata": {},
   "outputs": [],
   "source": []
  }
 ],
 "metadata": {
  "kernelspec": {
   "display_name": "Python 3",
   "language": "python",
   "name": "python3"
  },
  "language_info": {
   "codemirror_mode": {
    "name": "ipython",
    "version": 3
   },
   "file_extension": ".py",
   "mimetype": "text/x-python",
   "name": "python",
   "nbconvert_exporter": "python",
   "pygments_lexer": "ipython3",
   "version": "3.8.10"
  }
 },
 "nbformat": 4,
 "nbformat_minor": 4
}
