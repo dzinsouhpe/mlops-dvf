{
 "cells": [
  {
   "cell_type": "code",
   "execution_count": null,
   "metadata": {},
   "outputs": [],
   "source": [
    "import pandas as pd\n",
    "from pathlib import Path"
   ]
  },
  {
   "cell_type": "code",
   "execution_count": null,
   "metadata": {},
   "outputs": [],
   "source": [
    "homedir = str(Path.home())\n",
    "print(homedir)"
   ]
  },
  {
   "cell_type": "markdown",
   "metadata": {},
   "source": [
    "# Option 1: Merge raw data in one file"
   ]
  },
  {
   "cell_type": "code",
   "execution_count": null,
   "metadata": {},
   "outputs": [],
   "source": [
    "df2021s1 = pd.read_csv(homedir + '/data/dvf/2021s1.txt', sep='|', decimal=',', low_memory=False)\n",
    "df2021s1 = df2021s1.query(\"`Commune` == 'TOULOUSE' & `Nature mutation` == 'Vente' & `Type local` == 'Appartement' & `Nombre de lots` == 1 & not(`Surface Carrez du 1er lot`.isnull())\")"
   ]
  },
  {
   "cell_type": "code",
   "execution_count": null,
   "metadata": {},
   "outputs": [],
   "source": [
    "df2020 = pd.read_csv(homedir + '/data/dvf/2020.txt', sep='|', decimal=',', low_memory=False)\n",
    "df2020 = df2020.query(\"`Commune` == 'TOULOUSE' & `Nature mutation` == 'Vente' & `Type local` == 'Appartement' & `Nombre de lots` == 1 & not(`Surface Carrez du 1er lot`.isnull())\")"
   ]
  },
  {
   "cell_type": "code",
   "execution_count": null,
   "metadata": {},
   "outputs": [],
   "source": [
    "df2019 = pd.read_csv(homedir + '/data/dvf/2019.txt', sep='|', decimal=',', low_memory=False)\n",
    "df2019 = df2019.query(\"`Commune` == 'TOULOUSE' & `Nature mutation` == 'Vente' & `Type local` == 'Appartement' & `Nombre de lots` == 1 & not(`Surface Carrez du 1er lot`.isnull())\")"
   ]
  },
  {
   "cell_type": "code",
   "execution_count": null,
   "metadata": {},
   "outputs": [],
   "source": [
    "df2018 = pd.read_csv(homedir + '/data/dvf/2018.txt', sep='|', decimal=',', low_memory=False)\n",
    "df2018 = df2018.query(\"`Commune` == 'TOULOUSE' & `Nature mutation` == 'Vente' & `Type local` == 'Appartement' & `Nombre de lots` == 1 & not(`Surface Carrez du 1er lot`.isnull())\")"
   ]
  },
  {
   "cell_type": "code",
   "execution_count": null,
   "metadata": {},
   "outputs": [],
   "source": [
    "dfdvf_tls = pd.concat([df2018,df2019,df2020,df2021s1])"
   ]
  },
  {
   "cell_type": "code",
   "execution_count": null,
   "metadata": {},
   "outputs": [],
   "source": [
    "dfdvf_tls.to_csv(homedir + '/data/dvf/tls.txt', sep='|', index=None)"
   ]
  },
  {
   "cell_type": "markdown",
   "metadata": {},
   "source": [
    "# Option 2: Load directly all data"
   ]
  },
  {
   "cell_type": "code",
   "execution_count": null,
   "metadata": {},
   "outputs": [],
   "source": [
    "dfdvf_tls = pd.read_csv(homedir + '/data/dvf/tls.txt', sep='|')"
   ]
  },
  {
   "cell_type": "markdown",
   "metadata": {},
   "source": [
    "# Starting exploring data"
   ]
  },
  {
   "cell_type": "code",
   "execution_count": null,
   "metadata": {},
   "outputs": [],
   "source": [
    "list(dfdvf_tls.columns)"
   ]
  },
  {
   "cell_type": "code",
   "execution_count": null,
   "metadata": {},
   "outputs": [],
   "source": [
    "dfdvf.head(5)"
   ]
  },
  {
   "cell_type": "code",
   "execution_count": null,
   "metadata": {},
   "outputs": [],
   "source": [
    "dfdvf_tls = dfdvf_tls[['Code postal', 'Nombre pieces principales', 'Surface Carrez du 1er lot', 'Valeur fonciere']]\n",
    "dfdvf_tls = dfdvf_tls.rename(columns={\n",
    "    \"Code postal\": \"code_postal\", \n",
    "    \"Nombre pieces principales\": \"nb_pieces\", \n",
    "    \"Surface Carrez du 1er lot\": \"surface\", \n",
    "    \"Valeur fonciere\": \"prix_vente\"}\n",
    ")\n",
    "dfdvf_tls = dfdvf_tls.astype({'code_postal': 'int32', 'nb_pieces': 'int32', 'surface': 'int32', 'prix_vente': 'int32'})\n",
    "dfdvf_tls = dfdvf_tls.astype({'code_postal': 'str'})"
   ]
  },
  {
   "cell_type": "code",
   "execution_count": null,
   "metadata": {},
   "outputs": [],
   "source": [
    "dfdvf_tls.head(5)"
   ]
  },
  {
   "cell_type": "code",
   "execution_count": null,
   "metadata": {},
   "outputs": [],
   "source": [
    "dfdvf_tls.count()"
   ]
  },
  {
   "cell_type": "code",
   "execution_count": null,
   "metadata": {},
   "outputs": [],
   "source": [
    "dfdvf_tls[dfdvf_tls['code_postal']=='31400']"
   ]
  },
  {
   "cell_type": "code",
   "execution_count": null,
   "metadata": {},
   "outputs": [],
   "source": [
    "#dfdvf_tls.to_parquet('/bd-fs-mnt/project_repo/data/dvf/cleaned/2021s1.parquet.gzip', compression='gzip')"
   ]
  },
  {
   "cell_type": "code",
   "execution_count": null,
   "metadata": {},
   "outputs": [],
   "source": [
    "dfdvf_tls.to_csv(homedir + '/data/dvf/cleaned/tls.txt', index=None)"
   ]
  },
  {
   "cell_type": "code",
   "execution_count": null,
   "metadata": {},
   "outputs": [],
   "source": []
  }
 ],
 "metadata": {
  "kernelspec": {
   "display_name": "Python 3",
   "language": "python",
   "name": "python3"
  },
  "language_info": {
   "codemirror_mode": {
    "name": "ipython",
    "version": 3
   },
   "file_extension": ".py",
   "mimetype": "text/x-python",
   "name": "python",
   "nbconvert_exporter": "python",
   "pygments_lexer": "ipython3",
   "version": "3.8.10"
  }
 },
 "nbformat": 4,
 "nbformat_minor": 4
}
