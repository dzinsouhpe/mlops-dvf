{
 "cells": [
  {
   "cell_type": "code",
   "execution_count": 1,
   "metadata": {},
   "outputs": [],
   "source": [
    "import pandas as pd\n",
    "import numpy as np"
   ]
  },
  {
   "cell_type": "code",
   "execution_count": 2,
   "metadata": {},
   "outputs": [],
   "source": [
    "df2021s1 = pd.read_parquet('/bd-fs-mnt/datalab/data/dvf/cleaned/2021s1.parquet.gzip')"
   ]
  },
  {
   "cell_type": "code",
   "execution_count": 3,
   "metadata": {},
   "outputs": [
    {
     "data": {
      "text/html": [
       "<div>\n",
       "<style scoped>\n",
       "    .dataframe tbody tr th:only-of-type {\n",
       "        vertical-align: middle;\n",
       "    }\n",
       "\n",
       "    .dataframe tbody tr th {\n",
       "        vertical-align: top;\n",
       "    }\n",
       "\n",
       "    .dataframe thead th {\n",
       "        text-align: right;\n",
       "    }\n",
       "</style>\n",
       "<table border=\"1\" class=\"dataframe\">\n",
       "  <thead>\n",
       "    <tr style=\"text-align: right;\">\n",
       "      <th></th>\n",
       "      <th>code_postal</th>\n",
       "      <th>nb_pieces</th>\n",
       "      <th>surface</th>\n",
       "      <th>prix_vente</th>\n",
       "    </tr>\n",
       "  </thead>\n",
       "  <tbody>\n",
       "    <tr>\n",
       "      <th>281881</th>\n",
       "      <td>31000</td>\n",
       "      <td>1</td>\n",
       "      <td>22</td>\n",
       "      <td>85000</td>\n",
       "    </tr>\n",
       "    <tr>\n",
       "      <th>281886</th>\n",
       "      <td>31500</td>\n",
       "      <td>2</td>\n",
       "      <td>43</td>\n",
       "      <td>186000</td>\n",
       "    </tr>\n",
       "    <tr>\n",
       "      <th>281888</th>\n",
       "      <td>31400</td>\n",
       "      <td>2</td>\n",
       "      <td>42</td>\n",
       "      <td>155370</td>\n",
       "    </tr>\n",
       "    <tr>\n",
       "      <th>281890</th>\n",
       "      <td>31500</td>\n",
       "      <td>1</td>\n",
       "      <td>35</td>\n",
       "      <td>135732</td>\n",
       "    </tr>\n",
       "    <tr>\n",
       "      <th>281900</th>\n",
       "      <td>31500</td>\n",
       "      <td>3</td>\n",
       "      <td>68</td>\n",
       "      <td>344500</td>\n",
       "    </tr>\n",
       "  </tbody>\n",
       "</table>\n",
       "</div>"
      ],
      "text/plain": [
       "       code_postal  nb_pieces  surface  prix_vente\n",
       "281881       31000          1       22       85000\n",
       "281886       31500          2       43      186000\n",
       "281888       31400          2       42      155370\n",
       "281890       31500          1       35      135732\n",
       "281900       31500          3       68      344500"
      ]
     },
     "execution_count": 3,
     "metadata": {},
     "output_type": "execute_result"
    }
   ],
   "source": [
    "df2021s1.head()"
   ]
  },
  {
   "cell_type": "code",
   "execution_count": 4,
   "metadata": {},
   "outputs": [
    {
     "data": {
      "text/plain": [
       "code_postal    object\n",
       "nb_pieces       int32\n",
       "surface         int32\n",
       "prix_vente      int32\n",
       "dtype: object"
      ]
     },
     "execution_count": 4,
     "metadata": {},
     "output_type": "execute_result"
    }
   ],
   "source": [
    "df2021s1.dtypes"
   ]
  },
  {
   "cell_type": "code",
   "execution_count": 5,
   "metadata": {},
   "outputs": [],
   "source": [
    "x = df2021s1.drop('prix_vente', axis=1)\n",
    "x = pd.get_dummies(x, drop_first=True)"
   ]
  },
  {
   "cell_type": "code",
   "execution_count": 6,
   "metadata": {},
   "outputs": [
    {
     "data": {
      "text/html": [
       "<div>\n",
       "<style scoped>\n",
       "    .dataframe tbody tr th:only-of-type {\n",
       "        vertical-align: middle;\n",
       "    }\n",
       "\n",
       "    .dataframe tbody tr th {\n",
       "        vertical-align: top;\n",
       "    }\n",
       "\n",
       "    .dataframe thead th {\n",
       "        text-align: right;\n",
       "    }\n",
       "</style>\n",
       "<table border=\"1\" class=\"dataframe\">\n",
       "  <thead>\n",
       "    <tr style=\"text-align: right;\">\n",
       "      <th></th>\n",
       "      <th>nb_pieces</th>\n",
       "      <th>surface</th>\n",
       "      <th>code_postal_31100</th>\n",
       "      <th>code_postal_31200</th>\n",
       "      <th>code_postal_31300</th>\n",
       "      <th>code_postal_31400</th>\n",
       "      <th>code_postal_31500</th>\n",
       "    </tr>\n",
       "  </thead>\n",
       "  <tbody>\n",
       "    <tr>\n",
       "      <th>281881</th>\n",
       "      <td>1</td>\n",
       "      <td>22</td>\n",
       "      <td>0</td>\n",
       "      <td>0</td>\n",
       "      <td>0</td>\n",
       "      <td>0</td>\n",
       "      <td>0</td>\n",
       "    </tr>\n",
       "    <tr>\n",
       "      <th>281886</th>\n",
       "      <td>2</td>\n",
       "      <td>43</td>\n",
       "      <td>0</td>\n",
       "      <td>0</td>\n",
       "      <td>0</td>\n",
       "      <td>0</td>\n",
       "      <td>1</td>\n",
       "    </tr>\n",
       "    <tr>\n",
       "      <th>281888</th>\n",
       "      <td>2</td>\n",
       "      <td>42</td>\n",
       "      <td>0</td>\n",
       "      <td>0</td>\n",
       "      <td>0</td>\n",
       "      <td>1</td>\n",
       "      <td>0</td>\n",
       "    </tr>\n",
       "    <tr>\n",
       "      <th>281890</th>\n",
       "      <td>1</td>\n",
       "      <td>35</td>\n",
       "      <td>0</td>\n",
       "      <td>0</td>\n",
       "      <td>0</td>\n",
       "      <td>0</td>\n",
       "      <td>1</td>\n",
       "    </tr>\n",
       "    <tr>\n",
       "      <th>281900</th>\n",
       "      <td>3</td>\n",
       "      <td>68</td>\n",
       "      <td>0</td>\n",
       "      <td>0</td>\n",
       "      <td>0</td>\n",
       "      <td>0</td>\n",
       "      <td>1</td>\n",
       "    </tr>\n",
       "  </tbody>\n",
       "</table>\n",
       "</div>"
      ],
      "text/plain": [
       "        nb_pieces  surface  code_postal_31100  code_postal_31200  \\\n",
       "281881          1       22                  0                  0   \n",
       "281886          2       43                  0                  0   \n",
       "281888          2       42                  0                  0   \n",
       "281890          1       35                  0                  0   \n",
       "281900          3       68                  0                  0   \n",
       "\n",
       "        code_postal_31300  code_postal_31400  code_postal_31500  \n",
       "281881                  0                  0                  0  \n",
       "281886                  0                  0                  1  \n",
       "281888                  0                  1                  0  \n",
       "281890                  0                  0                  1  \n",
       "281900                  0                  0                  1  "
      ]
     },
     "execution_count": 6,
     "metadata": {},
     "output_type": "execute_result"
    }
   ],
   "source": [
    "x.head()"
   ]
  },
  {
   "cell_type": "code",
   "execution_count": 7,
   "metadata": {},
   "outputs": [],
   "source": [
    "y = df2021s1['prix_vente']"
   ]
  },
  {
   "cell_type": "code",
   "execution_count": 8,
   "metadata": {},
   "outputs": [
    {
     "data": {
      "text/plain": [
       "281881     85000\n",
       "281886    186000\n",
       "281888    155370\n",
       "281890    135732\n",
       "281900    344500\n",
       "Name: prix_vente, dtype: int32"
      ]
     },
     "execution_count": 8,
     "metadata": {},
     "output_type": "execute_result"
    }
   ],
   "source": [
    "y.head()"
   ]
  },
  {
   "cell_type": "code",
   "execution_count": 9,
   "metadata": {},
   "outputs": [],
   "source": [
    "from sklearn.model_selection import train_test_split\n",
    "x_train, x_test, y_train, y_test = train_test_split(x, y, test_size = 0.2, random_state = 42)"
   ]
  },
  {
   "cell_type": "code",
   "execution_count": 10,
   "metadata": {},
   "outputs": [
    {
     "data": {
      "text/plain": [
       "LinearRegression()"
      ]
     },
     "execution_count": 10,
     "metadata": {},
     "output_type": "execute_result"
    }
   ],
   "source": [
    "from sklearn.linear_model import LinearRegression\n",
    "LR = LinearRegression()\n",
    "LR.fit(x_train, y_train)"
   ]
  },
  {
   "cell_type": "code",
   "execution_count": 11,
   "metadata": {},
   "outputs": [],
   "source": [
    "predictions1 =  LR.predict(x_test)"
   ]
  },
  {
   "cell_type": "code",
   "execution_count": 12,
   "metadata": {},
   "outputs": [
    {
     "data": {
      "text/plain": [
       "269489.78686882375"
      ]
     },
     "execution_count": 12,
     "metadata": {},
     "output_type": "execute_result"
    }
   ],
   "source": [
    "# measure RSME\n",
    "from sklearn.metrics import mean_squared_error\n",
    "lin_mse = mean_squared_error(y_test, predictions1)\n",
    "lin_rmse = np.sqrt(lin_mse)\n",
    "lin_rmse"
   ]
  },
  {
   "cell_type": "code",
   "execution_count": 13,
   "metadata": {},
   "outputs": [
    {
     "data": {
      "text/html": [
       "<div>\n",
       "<style scoped>\n",
       "    .dataframe tbody tr th:only-of-type {\n",
       "        vertical-align: middle;\n",
       "    }\n",
       "\n",
       "    .dataframe tbody tr th {\n",
       "        vertical-align: top;\n",
       "    }\n",
       "\n",
       "    .dataframe thead th {\n",
       "        text-align: right;\n",
       "    }\n",
       "</style>\n",
       "<table border=\"1\" class=\"dataframe\">\n",
       "  <thead>\n",
       "    <tr style=\"text-align: right;\">\n",
       "      <th></th>\n",
       "      <th>nb_pieces</th>\n",
       "      <th>surface</th>\n",
       "      <th>code_postal_31100</th>\n",
       "      <th>code_postal_31200</th>\n",
       "      <th>code_postal_31300</th>\n",
       "      <th>code_postal_31400</th>\n",
       "      <th>code_postal_31500</th>\n",
       "    </tr>\n",
       "  </thead>\n",
       "  <tbody>\n",
       "    <tr>\n",
       "      <th>287185</th>\n",
       "      <td>1</td>\n",
       "      <td>18</td>\n",
       "      <td>0</td>\n",
       "      <td>0</td>\n",
       "      <td>0</td>\n",
       "      <td>1</td>\n",
       "      <td>0</td>\n",
       "    </tr>\n",
       "    <tr>\n",
       "      <th>283108</th>\n",
       "      <td>3</td>\n",
       "      <td>68</td>\n",
       "      <td>0</td>\n",
       "      <td>1</td>\n",
       "      <td>0</td>\n",
       "      <td>0</td>\n",
       "      <td>0</td>\n",
       "    </tr>\n",
       "    <tr>\n",
       "      <th>289267</th>\n",
       "      <td>3</td>\n",
       "      <td>63</td>\n",
       "      <td>0</td>\n",
       "      <td>0</td>\n",
       "      <td>0</td>\n",
       "      <td>1</td>\n",
       "      <td>0</td>\n",
       "    </tr>\n",
       "    <tr>\n",
       "      <th>290133</th>\n",
       "      <td>3</td>\n",
       "      <td>57</td>\n",
       "      <td>0</td>\n",
       "      <td>0</td>\n",
       "      <td>1</td>\n",
       "      <td>0</td>\n",
       "      <td>0</td>\n",
       "    </tr>\n",
       "    <tr>\n",
       "      <th>284145</th>\n",
       "      <td>4</td>\n",
       "      <td>82</td>\n",
       "      <td>0</td>\n",
       "      <td>1</td>\n",
       "      <td>0</td>\n",
       "      <td>0</td>\n",
       "      <td>0</td>\n",
       "    </tr>\n",
       "  </tbody>\n",
       "</table>\n",
       "</div>"
      ],
      "text/plain": [
       "        nb_pieces  surface  code_postal_31100  code_postal_31200  \\\n",
       "287185          1       18                  0                  0   \n",
       "283108          3       68                  0                  1   \n",
       "289267          3       63                  0                  0   \n",
       "290133          3       57                  0                  0   \n",
       "284145          4       82                  0                  1   \n",
       "\n",
       "        code_postal_31300  code_postal_31400  code_postal_31500  \n",
       "287185                  0                  1                  0  \n",
       "283108                  0                  0                  0  \n",
       "289267                  0                  1                  0  \n",
       "290133                  1                  0                  0  \n",
       "284145                  0                  0                  0  "
      ]
     },
     "execution_count": 13,
     "metadata": {},
     "output_type": "execute_result"
    }
   ],
   "source": [
    "x_test.head(5)"
   ]
  },
  {
   "cell_type": "code",
   "execution_count": 14,
   "metadata": {},
   "outputs": [
    {
     "data": {
      "text/plain": [
       "287185    119500\n",
       "Name: prix_vente, dtype: int32"
      ]
     },
     "execution_count": 14,
     "metadata": {},
     "output_type": "execute_result"
    }
   ],
   "source": [
    "y_test.head(1)"
   ]
  },
  {
   "cell_type": "code",
   "execution_count": 15,
   "metadata": {},
   "outputs": [
    {
     "data": {
      "text/plain": [
       "array([ 8.31406066e+04,  2.02819304e+05,  2.21956487e+05,  1.89474201e+05,\n",
       "        2.36044152e+05,  1.44053450e+05,  2.85022564e+05,  1.76834353e+05,\n",
       "        1.93818302e+05,  1.64507795e+05,  1.04468168e+05,  1.21452116e+05,\n",
       "        5.62829398e+04,  1.94305636e+05,  2.81595558e+05,  2.21999876e+05,\n",
       "       -1.50874783e+03,  2.76223153e+05,  1.36577445e+05,  5.65143808e+05,\n",
       "        6.10266067e+04,  1.27026113e+05,  8.73974410e+04,  1.45676463e+05,\n",
       "        1.54676964e+05,  1.19550107e+05,  1.79145789e+05,  1.26196285e+05,\n",
       "        1.27026113e+05,  2.01502143e+05,  2.51797717e+05,  2.26256710e+05,\n",
       "        1.38522843e+05,  1.31282947e+05,  1.44053450e+05,  1.67490856e+05,\n",
       "        2.29397974e+05,  1.90048801e+05,  2.90109227e+05,  4.58437205e+05,\n",
       "        2.15015208e+05,  1.90048801e+05,  1.73021463e+05,  1.05741941e+05,\n",
       "        2.06501539e+05,  1.13681010e+05,  1.14255609e+05,  1.14255609e+05,\n",
       "        2.68781666e+05,  1.56823954e+05,  2.46425312e+05,  1.65545458e+05,\n",
       "        1.54676964e+05,  1.95098820e+05,  1.59807015e+05,  1.25708951e+05,\n",
       "        1.35539782e+05,  1.57617138e+05,  1.55994126e+05,  6.18564345e+04,\n",
       "        4.20855383e+05,  1.05741941e+05,  1.58933798e+05,  1.31282947e+05,\n",
       "        2.21714133e+05,  2.03074532e+05,  2.54938981e+05,  8.31406066e+04,\n",
       "        1.84474805e+05,  2.10503145e+05,  3.18791497e+05,  2.78125162e+05,\n",
       "        9.16542755e+04,  8.31406066e+04,  1.14255609e+05,  1.08681613e+05,\n",
       "        8.60807807e+04,  2.13442818e+05,  7.89271612e+04,  1.56823954e+05,\n",
       "        1.64763023e+05,  1.43223623e+05,  2.43284048e+05,  1.41906461e+05,\n",
       "        3.23070860e+06,  1.51737291e+05,  1.70632120e+05,  8.73974410e+04,\n",
       "        1.23806942e+05,  2.17699652e+05,  1.94305636e+05,  5.04030931e+04,\n",
       "        1.43478851e+05,  1.30708347e+05,  5.54897553e+04,  2.92420663e+05,\n",
       "        1.45091114e+05,  2.18442214e+05,  1.62118451e+05,  2.02819304e+05,\n",
       "        2.16627471e+05,  4.35124365e+04,  1.87945201e+05,  6.90534430e+04,\n",
       "        1.62118451e+05,  1.05167341e+05,  8.89698309e+04,  7.46269378e+04,\n",
       "        2.80765730e+05,  2.93250491e+05,  1.49347948e+05,  3.61359841e+05,\n",
       "        2.48814655e+05,  1.25752340e+05,  2.00672315e+05,  9.16542755e+04,\n",
       "        2.17457299e+05,  1.17682616e+05,  3.76519688e+05,  1.23806942e+05,\n",
       "        1.33392792e+05,  2.80765730e+05,  1.85217367e+05,  8.02009340e+04,\n",
       "        1.95343299e+05,  1.90048801e+05,  1.87659458e+05,  1.04468168e+05,\n",
       "        1.90048801e+05,  2.04929149e+05,  1.61873973e+05,  2.25141140e+05,\n",
       "        2.87126165e+05,  1.58933798e+05])"
      ]
     },
     "execution_count": 15,
     "metadata": {},
     "output_type": "execute_result"
    }
   ],
   "source": [
    "predictions1"
   ]
  },
  {
   "cell_type": "code",
   "execution_count": 16,
   "metadata": {},
   "outputs": [],
   "source": [
    "import pickle\n",
    "s = pickle.dumps(LR)\n",
    "pickle.dump(LR, open('/bd-fs-mnt/datalab/models/dvf/1/model.pkl', 'wb'))"
   ]
  },
  {
   "cell_type": "code",
   "execution_count": null,
   "metadata": {},
   "outputs": [],
   "source": []
  }
 ],
 "metadata": {
  "kernelspec": {
   "display_name": "Python 3",
   "language": "python",
   "name": "python3"
  },
  "language_info": {
   "codemirror_mode": {
    "name": "ipython",
    "version": 3
   },
   "file_extension": ".py",
   "mimetype": "text/x-python",
   "name": "python",
   "nbconvert_exporter": "python",
   "pygments_lexer": "ipython3",
   "version": "3.8.5"
  }
 },
 "nbformat": 4,
 "nbformat_minor": 4
}
